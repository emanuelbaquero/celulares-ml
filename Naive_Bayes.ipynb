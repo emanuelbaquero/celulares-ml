{
 "cells": [
  {
   "cell_type": "code",
   "execution_count": 3,
   "metadata": {},
   "outputs": [],
   "source": [
    "import pandas as pd\n",
    "pd.options.display.max_columns = None"
   ]
  },
  {
   "cell_type": "code",
   "execution_count": 4,
   "metadata": {},
   "outputs": [],
   "source": [
    "df = pd.read_csv('data_celulares_modelo.csv').iloc[:,1:]"
   ]
  },
  {
   "cell_type": "markdown",
   "metadata": {},
   "source": [
    "#### DEFINICION  DE FUNCIONES\n",
    "CLASIFICADOR NAIVE BAYES "
   ]
  },
  {
   "cell_type": "code",
   "execution_count": 5,
   "metadata": {},
   "outputs": [],
   "source": [
    "def naive_bayes(p_df, predecir=[], v_target=3):\n",
    "    #DEPENDENCIAS\n",
    "    from sklearn.metrics import roc_auc_score\n",
    "    from sklearn.metrics import roc_auc_score, classification_report, confusion_matrix,accuracy_score \n",
    "    from sklearn.naive_bayes import MultinomialNB\n",
    "    import numpy as np\n",
    "    from sklearn.preprocessing import StandardScaler\n",
    "    from sklearn.model_selection import train_test_split\n",
    "    from sklearn.metrics import accuracy_score\n",
    "    from sklearn.metrics import confusion_matrix\n",
    "    import matplotlib.pyplot as plt\n",
    "    import seaborn as sns\n",
    "    scaler = StandardScaler()\n",
    "    from sklearn.feature_extraction.text import TfidfVectorizer\n",
    "    import unidecode as ud\n",
    "    \n",
    "    df = p_df\n",
    "    \n",
    "    if v_target==3:\n",
    "        df_aux = df[df.ventas==0].sample(190)\n",
    "        df = df[df.ventas!=0]\n",
    "        df =  pd.concat([df,df_aux],axis=0)\n",
    "        df.ventas = df.ventas.apply(lambda x: 0 if (x<=1) else 1 if ((x>1)&(x<=5)) else 2)\n",
    "        df.ventas.value_counts()\n",
    "    else:\n",
    "        df.ventas = pd.qcut(df.ventas,2,labels=[0,1])\n",
    "        \n",
    "    X = pd.DataFrame({'titulo':df.titulo})\n",
    "    X = X.titulo.apply(lambda x : ud.unidecode(x).lower())\n",
    "    y = df.ventas\n",
    "\n",
    "    X_train, X_test, y_train, y_test = train_test_split(X, y, test_size=0.25, random_state=50)\n",
    "    modelo_tfidf = TfidfVectorizer(ngram_range=(2,3), max_df=0.65)\n",
    "    X_train = modelo_tfidf.fit_transform(X_train)\n",
    "    y_train = np.array(y_train)\n",
    "    if v_target==3:\n",
    "        modelo_NB = MultinomialNB(alpha=0.001,class_prior=[.75,.99,.80])\n",
    "    else:\n",
    "        modelo_NB = MultinomialNB(alpha=0.001,class_prior=[.60,.30])\n",
    "    modelo_NB.fit(X_train, y_train)\n",
    "    X_test = modelo_tfidf.transform(X_test)\n",
    "    X_test.get_shape()\n",
    "    predicciones = modelo_NB.predict(X_test)\n",
    "    predicciones_proba = modelo_NB.predict_proba(X_test)\n",
    "    accuracy = accuracy_score(y_test, predicciones)\n",
    "    #print('ROC_AUC_SCORE: ',roc_auc_score(y_test, predicciones))\n",
    "    print(' ')\n",
    "    print(classification_report(y_test,predicciones))\n",
    "    print('')\n",
    "    print(confusion_matrix(y_test,predicciones))\n",
    "    mat = confusion_matrix(y_test, predicciones)\n",
    "    sns.heatmap(mat, square=True, annot=True, fmt='d')\n",
    "    plt.xlabel('Etiquetas predichas')\n",
    "    plt.ylabel('Etiquetas verdaderas')\n",
    "    salida = []\n",
    "    if pd.Series(predecir).shape[0] != 0:\n",
    "        for i in predecir:\n",
    "            nuevos_X = pd.Series(i)\n",
    "            nuevos_X = modelo_tfidf.transform(nuevos_X)\n",
    "            if v_target==3:\n",
    "                dic = {0:'pocas',1:'medias',2:'altas'}\n",
    "            else:\n",
    "                dic = {0:'pocas',1:'muchas'}\n",
    "            pd.DataFrame(modelo_NB.predict_proba(nuevos_X))\n",
    "\n",
    "            if (modelo_NB.predict_proba(nuevos_X).max())>0.45:\n",
    "                print('')\n",
    "                print('Prediccion de ventas para '+i+': ',dic[modelo_NB.predict(nuevos_X)[0]])\n",
    "                print(modelo_NB.predict_proba(nuevos_X))\n",
    "                if v_target==3:\n",
    "                    salida_valor = modelo_NB.predict(nuevos_X)[0]\n",
    "                    bar_df = pd.DataFrame(modelo_NB.predict_proba(nuevos_X),columns=['bajas ventas','medias ventas','altas ventas'])\n",
    "                else:\n",
    "                    salida_valor = modelo_NB.predict(nuevos_X)[0]\n",
    "                    bar_df = pd.DataFrame(modelo_NB.predict_proba(nuevos_X),columns=['bajas ventas','altas ventas'])\n",
    "                    \n",
    "                salida.append((i,bar_df))\n",
    "            else:\n",
    "                salida_valor = -1\n",
    "                print('')\n",
    "                print('No se puede estimar correctamente')\n",
    "    else:\n",
    "        salida_valor = -2\n",
    "        salida='n/p'\n",
    "    return {'modeloPalabras':modelo_tfidf,'modelo':modelo_NB,'salida':salida,'salida_valor':salida_valor}\n"
   ]
  },
  {
   "cell_type": "markdown",
   "metadata": {},
   "source": [
    "## CLASIFICADOR DE NAIVE BAYES UTILIZANDO 3 DIMENSIONES (POCAS(0), MEDIAS(1) Y MUCHAS(2))"
   ]
  },
  {
   "cell_type": "code",
   "execution_count": 6,
   "metadata": {},
   "outputs": [
    {
     "name": "stdout",
     "output_type": "stream",
     "text": [
      " \n",
      "              precision    recall  f1-score   support\n",
      "\n",
      "           0       0.81      0.72      0.76       259\n",
      "           1       0.72      0.73      0.73       258\n",
      "           2       0.76      0.85      0.80       225\n",
      "\n",
      "    accuracy                           0.76       742\n",
      "   macro avg       0.77      0.77      0.77       742\n",
      "weighted avg       0.77      0.76      0.76       742\n",
      "\n",
      "\n",
      "[[187  45  27]\n",
      " [ 37 189  32]\n",
      " [  7  27 191]]\n"
     ]
    },
    {
     "data": {
      "text/plain": [
       "{'modeloPalabras': TfidfVectorizer(max_df=0.65, ngram_range=(2, 3)),\n",
       " 'modelo': MultinomialNB(alpha=0.001, class_prior=[0.75, 0.99, 0.8]),\n",
       " 'salida': 'n/p',\n",
       " 'salida_valor': -2}"
      ]
     },
     "execution_count": 6,
     "metadata": {},
     "output_type": "execute_result"
    }
   ],
   "source": [
    "df = pd.read_csv('data_celulares_modelo.csv').iloc[:,1:]\n",
    "naive_bayes(df,v_target=3)"
   ]
  },
  {
   "cell_type": "markdown",
   "metadata": {},
   "source": [
    "#### NAIVE BAYES PREDECIR VENTAS PARA = SAMSUNG GALAXY A30"
   ]
  },
  {
   "cell_type": "code",
   "execution_count": 11,
   "metadata": {},
   "outputs": [],
   "source": [
    "l_celulares=['iPhone XR','Samsung Galaxy A30']"
   ]
  },
  {
   "cell_type": "code",
   "execution_count": 15,
   "metadata": {},
   "outputs": [
    {
     "name": "stdout",
     "output_type": "stream",
     "text": [
      " \n",
      "              precision    recall  f1-score   support\n",
      "\n",
      "           0       0.81      0.76      0.78       259\n",
      "           1       0.74      0.72      0.73       258\n",
      "           2       0.76      0.84      0.80       225\n",
      "\n",
      "    accuracy                           0.77       742\n",
      "   macro avg       0.77      0.77      0.77       742\n",
      "weighted avg       0.77      0.77      0.77       742\n",
      "\n",
      "\n",
      "[[196  36  27]\n",
      " [ 40 186  32]\n",
      " [  7  28 190]]\n",
      "\n",
      "Prediccion de ventas para iPhone XR:  medias\n",
      "[[0.22113872 0.76690411 0.01195716]]\n",
      "\n",
      "Prediccion de ventas para Samsung Galaxy A30:  altas\n",
      "[[0.19529359 0.21555886 0.58914756]]\n"
     ]
    },
    {
     "data": {
      "image/png": "[encoded data removed]",
      "text/plain": [
       "<Figure size 432x288 with 2 Axes>"
      ]
     },
     "metadata": {
      "needs_background": "light"
     },
     "output_type": "display_data"
    }
   ],
   "source": [
    "df = pd.read_csv('data_celulares_modelo.csv').iloc[:,1:]\n",
    "df_bar = naive_bayes(df,l_celulares,v_target=3)['salida']"
   ]
  },
  {
   "cell_type": "code",
   "execution_count": 17,
   "metadata": {},
   "outputs": [
    {
     "data": {
      "image/png": "[encoded data removed]",
      "text/plain": [
       "<Figure size 432x288 with 1 Axes>"
      ]
     },
     "metadata": {
      "needs_background": "light"
     },
     "output_type": "display_data"
    },
    {
     "data": {
      "image/png": "[encoded data removed]",
      "text/plain": [
       "<Figure size 432x288 with 1 Axes>"
      ]
     },
     "metadata": {
      "needs_background": "light"
     },
     "output_type": "display_data"
    }
   ],
   "source": [
    "import matplotlib.pyplot as plt\n",
    "for i in df_bar:\n",
    "    i[1].plot.bar()\n",
    "    plt.title(i[0])"
   ]
  }
 ],
 "metadata": {
  "kernelspec": {
   "display_name": "Python 3",
   "language": "python",
   "name": "python3"
  },
  "language_info": {
   "codemirror_mode": {
    "name": "ipython",
    "version": 3
   },
   "file_extension": ".py",
   "mimetype": "text/x-python",
   "name": "python",
   "nbconvert_exporter": "python",
   "pygments_lexer": "ipython3",
   "version": "3.6.6"
  }
 },
 "nbformat": 4,
 "nbformat_minor": 2
}
