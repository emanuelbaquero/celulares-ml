{
 "cells": [
  {
   "cell_type": "code",
   "execution_count": 1,
   "metadata": {},
   "outputs": [],
   "source": [
    "import pandas as pd"
   ]
  },
  {
   "cell_type": "markdown",
   "metadata": {},
   "source": [
    "### DEFINICION REGRESION LOGISTICA"
   ]
  },
  {
   "cell_type": "code",
   "execution_count": 2,
   "metadata": {},
   "outputs": [],
   "source": [
    "def regresion_logistica(p_data, v_target=True):\n",
    "    # DEPENDENCIAS\n",
    "    import pandas as pd\n",
    "    import numpy as np\n",
    "    from sklearn.model_selection import train_test_split\n",
    "    from sklearn.preprocessing import StandardScaler\n",
    "    from sklearn.metrics import confusion_matrix\n",
    "    import unidecode as ud\n",
    "    from sklearn.linear_model import LogisticRegression\n",
    "    from sklearn.metrics import roc_auc_score, classification_report, confusion_matrix,accuracy_score\n",
    "    import seaborn as sns\n",
    "    from sklearn.metrics import roc_auc_score\n",
    "    from matplotlib import pyplot as plt\n",
    "    \n",
    "    data = p_data\n",
    "    \n",
    "    if v_target:\n",
    "        data_aux = data[data.ventas==0].sample(200)# BALANCEAR LA CANTIDAD DE VENTAS = \"0\"\n",
    "        data = data[data.ventas!=0]\n",
    "        data =  pd.concat([data,data_aux],axis=0)\n",
    "        data.ventas = data.ventas.apply(lambda x: 0 if (x<=1) else 1 if ((x>1)&(x<=5)) else 2)\n",
    "    else:\n",
    "        data.ventas = pd.qcut(data.ventas,2,labels=[0,1])\n",
    "    \n",
    "    \n",
    "    data.precio = pd.qcut(data.precio,5,labels=[0,1,2,3,4])\n",
    "    X = pd.DataFrame({'precio':data.precio,'moto':data.moto,'samsung':data.samsung,'tcl':data.tcl,'xiaomi':data.xiaomi,'iphone':data.iphone,'lg':data.lg,'sony':data.sony,'nokia':data.nokia,'huawei':data.huawei,'blackberry':data.blackberry,'otros':data.otros})\n",
    "    y = data.ventas\n",
    "    X_train, X_test, y_train, y_test = train_test_split(X, y, test_size=0.25, random_state=50)\n",
    "    scaler = StandardScaler()\n",
    "    X_train = scaler.fit_transform(X_train)\n",
    "    modelo = LogisticRegression(C=1e10)\n",
    "    modelo.fit(X_train,y_train)\n",
    "    X_test = scaler.transform(X_test)\n",
    "    y_predict = modelo.predict(X_test)\n",
    "    y_predict_proba = modelo.predict_proba(X_test)\n",
    "\n",
    "    y_test = np.array(y_test)\n",
    "    y_predict = np.array(y_predict)\n",
    "\n",
    "    if y.value_counts().shape[0] == 2:\n",
    "        print('ROC_AUC_SCORE: ',roc_auc_score(y_test, y_predict))\n",
    "    print(' ')\n",
    "    print(classification_report(y_test,y_predict))\n",
    "    print('')\n",
    "    print(confusion_matrix(y_test,y_predict))\n",
    "    mat = confusion_matrix(y_test, y_predict)\n",
    "    sns.heatmap(mat, square=True, annot=True, fmt='d')\n",
    "    plt.xlabel('Etiquetas predichas')\n",
    "    plt.ylabel('Etiquetas verdaderas')\n",
    "        \n",
    "    return {'modelo':modelo,'scaler':scaler}\n"
   ]
  },
  {
   "cell_type": "markdown",
   "metadata": {},
   "source": [
    "#### DEFINICION REGRESION LOGISTICA CON SMOTE"
   ]
  },
  {
   "cell_type": "code",
   "execution_count": 3,
   "metadata": {},
   "outputs": [],
   "source": [
    "def regresion_logistica_balanceando(p_data,v_target=True):\n",
    "    \n",
    "    # DEPENDENCIAS\n",
    "    from imblearn.over_sampling import SMOTE\n",
    "    import pandas as pd\n",
    "    import numpy as np\n",
    "    from sklearn.model_selection import train_test_split\n",
    "    from sklearn.preprocessing import StandardScaler\n",
    "    from sklearn.metrics import confusion_matrix\n",
    "    import unidecode as ud\n",
    "    from sklearn.linear_model import LogisticRegression\n",
    "    from sklearn.metrics import roc_auc_score, classification_report, confusion_matrix,accuracy_score\n",
    "    import seaborn as sns\n",
    "    from sklearn.metrics import roc_auc_score\n",
    "    from matplotlib import pyplot as plt\n",
    "    \n",
    "    data = p_data\n",
    "    \n",
    "    if v_target:\n",
    "        data_aux = data[data.ventas==0].sample(200)\n",
    "        data = data[data.ventas!=0]\n",
    "        data =  pd.concat([data,data_aux],axis=0)\n",
    "        data.ventas = data.ventas.apply(lambda x: 0 if (x<=1) else 1 if ((x>1)&(x<=5)) else 2)\n",
    "    else:\n",
    "        data.ventas = pd.qcut(data.ventas,2,labels=[0,1])\n",
    "    \n",
    "    X = pd.DataFrame({'precio':data.precio,'moto':data.moto,'samsung':data.samsung,'tcl':data.tcl,'xiaomi':data.xiaomi,'iphone':data.iphone,'lg':data.lg,'sony':data.sony,'nokia':data.nokia,'huawei':data.huawei,'blackberry':data.blackberry,'otros':data.otros})\n",
    "    y = data.ventas\n",
    "    X_train, X_test, y_train, y_test = train_test_split(X, y, test_size=0.25, random_state=50)\n",
    "    scaler = StandardScaler()\n",
    "    sm = SMOTE(random_state=12)\n",
    "    x_train_res, y_train_res = sm.fit_sample(X_train, y_train)\n",
    "\n",
    "    modelo = LogisticRegression(C=1e10)\n",
    "    x_train_res = scaler.fit_transform(x_train_res)\n",
    "    modelo.fit(x_train_res,y_train_res)\n",
    "    X_test = scaler.transform(X_test)\n",
    "    y_predict = modelo.predict(X_test)\n",
    "\n",
    "    if y.value_counts().shape[0] == 2:\n",
    "        print('ROC_AUC_SCORE: ',roc_auc_score(y_test,y_predict))\n",
    "    print(' ')\n",
    "    print(classification_report(y_test,y_predict))\n",
    "    print('')\n",
    "    print(confusion_matrix(y_test,y_predict))\n",
    "    mat = confusion_matrix(y_test, y_predict)\n",
    "    sns.heatmap(mat, square=True, annot=True, fmt='d')\n",
    "    plt.xlabel('Etiquetas predichas')\n",
    "    plt.ylabel('Etiquetas verdaderas')\n",
    "    \n",
    "    return {'modelo':modelo}"
   ]
  },
  {
   "cell_type": "markdown",
   "metadata": {},
   "source": [
    "#### REGRESION DEFINIENDO COMO TARGET 2 DIMENSIONES (POCAS(0) Y MUCHAS(1))"
   ]
  },
  {
   "cell_type": "code",
   "execution_count": 4,
   "metadata": {},
   "outputs": [
    {
     "name": "stdout",
     "output_type": "stream",
     "text": [
      "ROC_AUC_SCORE:  0.6074987060041408\n",
      " \n",
      "              precision    recall  f1-score   support\n",
      "\n",
      "           0       0.66      0.60      0.63       483\n",
      "           1       0.55      0.61      0.58       384\n",
      "\n",
      "    accuracy                           0.61       867\n",
      "   macro avg       0.61      0.61      0.61       867\n",
      "weighted avg       0.61      0.61      0.61       867\n",
      "\n",
      "\n",
      "[[290 193]\n",
      " [148 236]]\n"
     ]
    }
   ],
   "source": [
    "data = pd.read_csv('data_celulares_modelo.csv')\n",
    "model = regresion_logistica(data, v_target=False)"
   ]
  },
  {
   "cell_type": "markdown",
   "metadata": {},
   "source": [
    "#### REGRESION DEFINIENDO COMO TARGET 3 DIMENSIONES (POCAS(0), MEDIAS(1) Y MUCHAS(2))"
   ]
  },
  {
   "cell_type": "code",
   "execution_count": 5,
   "metadata": {},
   "outputs": [
    {
     "name": "stdout",
     "output_type": "stream",
     "text": [
      " \n",
      "              precision    recall  f1-score   support\n",
      "\n",
      "           0       0.39      0.31      0.35       258\n",
      "           1       0.39      0.48      0.43       251\n",
      "           2       0.50      0.49      0.49       235\n",
      "\n",
      "    accuracy                           0.42       744\n",
      "   macro avg       0.43      0.43      0.42       744\n",
      "weighted avg       0.42      0.42      0.42       744\n",
      "\n",
      "\n",
      "[[ 81 117  60]\n",
      " [ 75 120  56]\n",
      " [ 53  67 115]]\n"
     ]
    },
    {
     "data": {
      "text/plain": [
       "{'modelo': LogisticRegression(C=10000000000.0), 'scaler': StandardScaler()}"
      ]
     },
     "execution_count": 5,
     "metadata": {},
     "output_type": "execute_result"
    },
    {
     "data": {
      "image/png": "[encoded data removed]",
      "text/plain": [
       "<Figure size 432x288 with 2 Axes>"
      ]
     },
     "metadata": {
      "needs_background": "light"
     },
     "output_type": "display_data"
    }
   ],
   "source": [
    "data = pd.read_csv('data_celulares_modelo.csv')\n",
    "regresion_logistica(data)"
   ]
  },
  {
   "cell_type": "markdown",
   "metadata": {},
   "source": [
    "#### REGRESION UTILIZANDO TARGET DE 3 DIMENSIONES CON SMOTE (POCAS(0), MEDIAS(1) Y MUCHAS(2))"
   ]
  },
  {
   "cell_type": "code",
   "execution_count": 6,
   "metadata": {},
   "outputs": [
    {
     "name": "stdout",
     "output_type": "stream",
     "text": [
      " \n",
      "              precision    recall  f1-score   support\n",
      "\n",
      "           0       0.39      0.44      0.42       258\n",
      "           1       0.30      0.24      0.27       251\n",
      "           2       0.51      0.55      0.53       235\n",
      "\n",
      "    accuracy                           0.41       744\n",
      "   macro avg       0.40      0.41      0.41       744\n",
      "weighted avg       0.40      0.41      0.40       744\n",
      "\n",
      "\n",
      "[[114  82  62]\n",
      " [129  61  61]\n",
      " [ 46  59 130]]\n"
     ]
    },
    {
     "data": {
      "text/plain": [
       "{'modelo': LogisticRegression(C=10000000000.0)}"
      ]
     },
     "execution_count": 6,
     "metadata": {},
     "output_type": "execute_result"
    },
    {
     "data": {
      "image/png": "[encoded data removed]",
      "text/plain": [
       "<Figure size 432x288 with 2 Axes>"
      ]
     },
     "metadata": {
      "needs_background": "light"
     },
     "output_type": "display_data"
    }
   ],
   "source": [
    "data = pd.read_csv('data_celulares_modelo.csv')\n",
    "regresion_logistica_balanceando(data)"
   ]
  },
  {
   "cell_type": "markdown",
   "metadata": {},
   "source": [
    "#### REGRESION UTILIZANDO TARGET DE 2 DIMENSIONES CON SMOTE (POCAS(0) Y MUCHAS(1))"
   ]
  },
  {
   "cell_type": "code",
   "execution_count": 7,
   "metadata": {},
   "outputs": [
    {
     "name": "stdout",
     "output_type": "stream",
     "text": [
      "ROC_AUC_SCORE:  0.6147693452380952\n",
      " \n",
      "              precision    recall  f1-score   support\n",
      "\n",
      "           0       0.69      0.52      0.60       483\n",
      "           1       0.54      0.71      0.61       384\n",
      "\n",
      "    accuracy                           0.60       867\n",
      "   macro avg       0.62      0.61      0.60       867\n",
      "weighted avg       0.62      0.60      0.60       867\n",
      "\n",
      "\n",
      "[[253 230]\n",
      " [113 271]]\n"
     ]
    },
    {
     "data": {
      "text/plain": [
       "{'modelo': LogisticRegression(C=10000000000.0)}"
      ]
     },
     "execution_count": 7,
     "metadata": {},
     "output_type": "execute_result"
    },
    {
     "data": {
      "image/png": "[encoded data removed]",
      "text/plain": [
       "<Figure size 432x288 with 2 Axes>"
      ]
     },
     "metadata": {
      "needs_background": "light"
     },
     "output_type": "display_data"
    }
   ],
   "source": [
    "data = pd.read_csv('data_celulares_modelo.csv')\n",
    "regresion_logistica_balanceando(data, v_target=False)"
   ]
  },
  {
   "cell_type": "code",
   "execution_count": null,
   "metadata": {},
   "outputs": [],
   "source": []
  },
  {
   "cell_type": "code",
   "execution_count": null,
   "metadata": {},
   "outputs": [],
   "source": []
  },
  {
   "cell_type": "code",
   "execution_count": 2,
   "metadata": {},
   "outputs": [],
   "source": [
    "import pandas as pd"
   ]
  },
  {
   "cell_type": "code",
   "execution_count": 17,
   "metadata": {},
   "outputs": [],
   "source": [
    "data = pd.read_csv('data_celulares_modelo.csv').iloc[:,1:]\n",
    "X = pd.DataFrame({'precio':data.precio,'moto':data.moto,'samsung':data.samsung})\n",
    "y = data.ventas\n",
    "df = pd.concat([pd.DataFrame(y),X],axis=1)"
   ]
  },
  {
   "cell_type": "code",
   "execution_count": 18,
   "metadata": {},
   "outputs": [
    {
     "data": {
      "image/png": "[encoded data removed]",
      "text/plain": [
       "<Figure size 1080x1080 with 9 Axes>"
      ]
     },
     "metadata": {
      "needs_background": "light"
     },
     "output_type": "display_data"
    }
   ],
   "source": [
    "grr = pd.plotting.scatter_matrix(X, c=y, figsize=(15, 15), marker='o',grid=False)"
   ]
  },
  {
   "cell_type": "code",
   "execution_count": 15,
   "metadata": {},
   "outputs": [
    {
     "data": {
      "text/plain": [
       "array([[<matplotlib.axes._subplots.AxesSubplot object at 0x7fed1f31f6a0>,\n",
       "        <matplotlib.axes._subplots.AxesSubplot object at 0x7fed1ee4e940>,\n",
       "        <matplotlib.axes._subplots.AxesSubplot object at 0x7fed1edfbcc0>,\n",
       "        <matplotlib.axes._subplots.AxesSubplot object at 0x7fed1edab278>,\n",
       "        <matplotlib.axes._subplots.AxesSubplot object at 0x7fed1edd37f0>,\n",
       "        <matplotlib.axes._subplots.AxesSubplot object at 0x7fed1ed7ad68>,\n",
       "        <matplotlib.axes._subplots.AxesSubplot object at 0x7fed1ed2b320>,\n",
       "        <matplotlib.axes._subplots.AxesSubplot object at 0x7fed1ed518d0>,\n",
       "        <matplotlib.axes._subplots.AxesSubplot object at 0x7fed1ed51908>,\n",
       "        <matplotlib.axes._subplots.AxesSubplot object at 0x7fed1eca93c8>,\n",
       "        <matplotlib.axes._subplots.AxesSubplot object at 0x7fed1ecd0940>,\n",
       "        <matplotlib.axes._subplots.AxesSubplot object at 0x7fed1ec77eb8>,\n",
       "        <matplotlib.axes._subplots.AxesSubplot object at 0x7fed1ec28438>],\n",
       "       [<matplotlib.axes._subplots.AxesSubplot object at 0x7fed1ec509b0>,\n",
       "        <matplotlib.axes._subplots.AxesSubplot object at 0x7fed1ebfaf28>,\n",
       "        <matplotlib.axes._subplots.AxesSubplot object at 0x7fed1eba94e0>,\n",
       "        <matplotlib.axes._subplots.AxesSubplot object at 0x7fed1ebd0a58>,\n",
       "        <matplotlib.axes._subplots.AxesSubplot object at 0x7fed1eb77fd0>,\n",
       "        <matplotlib.axes._subplots.AxesSubplot object at 0x7fed1eb28588>,\n",
       "        <matplotlib.axes._subplots.AxesSubplot object at 0x7fed1eb50b00>,\n",
       "        <matplotlib.axes._subplots.AxesSubplot object at 0x7fed1eb000b8>,\n",
       "        <matplotlib.axes._subplots.AxesSubplot object at 0x7fed1eaa9630>,\n",
       "        <matplotlib.axes._subplots.AxesSubplot object at 0x7fed1eacfba8>,\n",
       "        <matplotlib.axes._subplots.AxesSubplot object at 0x7fed1ea7f160>,\n",
       "        <matplotlib.axes._subplots.AxesSubplot object at 0x7fed1ea286d8>,\n",
       "        <matplotlib.axes._subplots.AxesSubplot object at 0x7fed1ea4dc50>],\n",
       "       [<matplotlib.axes._subplots.AxesSubplot object at 0x7fed1e9ff208>,\n",
       "        <matplotlib.axes._subplots.AxesSubplot object at 0x7fed1e9a8780>,\n",
       "        <matplotlib.axes._subplots.AxesSubplot object at 0x7fed1e9cecf8>,\n",
       "        <matplotlib.axes._subplots.AxesSubplot object at 0x7fed1e97e2b0>,\n",
       "        <matplotlib.axes._subplots.AxesSubplot object at 0x7fed1e9a2828>,\n",
       "        <matplotlib.axes._subplots.AxesSubplot object at 0x7fed1e94eda0>,\n",
       "        <matplotlib.axes._subplots.AxesSubplot object at 0x7fed1e8fe358>,\n",
       "        <matplotlib.axes._subplots.AxesSubplot object at 0x7fed1e9248d0>,\n",
       "        <matplotlib.axes._subplots.AxesSubplot object at 0x7fed1e8cde48>,\n",
       "        <matplotlib.axes._subplots.AxesSubplot object at 0x7fed1e87c400>,\n",
       "        <matplotlib.axes._subplots.AxesSubplot object at 0x7fed1e8a3978>,\n",
       "        <matplotlib.axes._subplots.AxesSubplot object at 0x7fed1e84cef0>,\n",
       "        <matplotlib.axes._subplots.AxesSubplot object at 0x7fed1e7fc4a8>],\n",
       "       [<matplotlib.axes._subplots.AxesSubplot object at 0x7fed1e821a20>,\n",
       "        <matplotlib.axes._subplots.AxesSubplot object at 0x7fed1e7cbf98>,\n",
       "        <matplotlib.axes._subplots.AxesSubplot object at 0x7fed1e77b550>,\n",
       "        <matplotlib.axes._subplots.AxesSubplot object at 0x7fed1e7a2ac8>,\n",
       "        <matplotlib.axes._subplots.AxesSubplot object at 0x7fed1e754080>,\n",
       "        <matplotlib.axes._subplots.AxesSubplot object at 0x7fed1e6f95f8>,\n",
       "        <matplotlib.axes._subplots.AxesSubplot object at 0x7fed1e721b70>,\n",
       "        <matplotlib.axes._subplots.AxesSubplot object at 0x7fed1e6d2128>,\n",
       "        <matplotlib.axes._subplots.AxesSubplot object at 0x7fed1e6796a0>,\n",
       "        <matplotlib.axes._subplots.AxesSubplot object at 0x7fed1e6a2c18>,\n",
       "        <matplotlib.axes._subplots.AxesSubplot object at 0x7fed1e6521d0>,\n",
       "        <matplotlib.axes._subplots.AxesSubplot object at 0x7fed1e5f6748>,\n",
       "        <matplotlib.axes._subplots.AxesSubplot object at 0x7fed1e620cc0>],\n",
       "       [<matplotlib.axes._subplots.AxesSubplot object at 0x7fed1e5cf278>,\n",
       "        <matplotlib.axes._subplots.AxesSubplot object at 0x7fed1e5777f0>,\n",
       "        <matplotlib.axes._subplots.AxesSubplot object at 0x7fed1e59fd68>,\n",
       "        <matplotlib.axes._subplots.AxesSubplot object at 0x7fed1e54f320>,\n",
       "        <matplotlib.axes._subplots.AxesSubplot object at 0x7fed1e4f6898>,\n",
       "        <matplotlib.axes._subplots.AxesSubplot object at 0x7fed1e51fe10>,\n",
       "        <matplotlib.axes._subplots.AxesSubplot object at 0x7fed1e4d03c8>,\n",
       "        <matplotlib.axes._subplots.AxesSubplot object at 0x7fed1e477940>,\n",
       "        <matplotlib.axes._subplots.AxesSubplot object at 0x7fed1e49deb8>,\n",
       "        <matplotlib.axes._subplots.AxesSubplot object at 0x7fed1e44f470>,\n",
       "        <matplotlib.axes._subplots.AxesSubplot object at 0x7fed1e3f59e8>,\n",
       "        <matplotlib.axes._subplots.AxesSubplot object at 0x7fed1e41df60>,\n",
       "        <matplotlib.axes._subplots.AxesSubplot object at 0x7fed1e3ce518>],\n",
       "       [<matplotlib.axes._subplots.AxesSubplot object at 0x7fed1e375a90>,\n",
       "        <matplotlib.axes._subplots.AxesSubplot object at 0x7fed1e3a6048>,\n",
       "        <matplotlib.axes._subplots.AxesSubplot object at 0x7fed1e34d5c0>,\n",
       "        <matplotlib.axes._subplots.AxesSubplot object at 0x7fed1e2f4b38>,\n",
       "        <matplotlib.axes._subplots.AxesSubplot object at 0x7fed1e3250f0>,\n",
       "        <matplotlib.axes._subplots.AxesSubplot object at 0x7fed1e2cd668>,\n",
       "        <matplotlib.axes._subplots.AxesSubplot object at 0x7fed1e273be0>,\n",
       "        <matplotlib.axes._subplots.AxesSubplot object at 0x7fed1e2a3198>,\n",
       "        <matplotlib.axes._subplots.AxesSubplot object at 0x7fed1e24b710>,\n",
       "        <matplotlib.axes._subplots.AxesSubplot object at 0x7fed1e1f3c88>,\n",
       "        <matplotlib.axes._subplots.AxesSubplot object at 0x7fed1e222240>,\n",
       "        <matplotlib.axes._subplots.AxesSubplot object at 0x7fed1e1ca7b8>,\n",
       "        <matplotlib.axes._subplots.AxesSubplot object at 0x7fed1e171d30>],\n",
       "       [<matplotlib.axes._subplots.AxesSubplot object at 0x7fed1e1a12e8>,\n",
       "        <matplotlib.axes._subplots.AxesSubplot object at 0x7fed1e14a860>,\n",
       "        <matplotlib.axes._subplots.AxesSubplot object at 0x7fed1e0f1dd8>,\n",
       "        <matplotlib.axes._subplots.AxesSubplot object at 0x7fed1e121390>,\n",
       "        <matplotlib.axes._subplots.AxesSubplot object at 0x7fed1e0c9908>,\n",
       "        <matplotlib.axes._subplots.AxesSubplot object at 0x7fed1e070e80>,\n",
       "        <matplotlib.axes._subplots.AxesSubplot object at 0x7fed1e0a1438>,\n",
       "        <matplotlib.axes._subplots.AxesSubplot object at 0x7fed1e0499b0>,\n",
       "        <matplotlib.axes._subplots.AxesSubplot object at 0x7fed1dff0f28>,\n",
       "        <matplotlib.axes._subplots.AxesSubplot object at 0x7fed1e0224e0>,\n",
       "        <matplotlib.axes._subplots.AxesSubplot object at 0x7fed1dfc8a58>,\n",
       "        <matplotlib.axes._subplots.AxesSubplot object at 0x7fed1df6ffd0>,\n",
       "        <matplotlib.axes._subplots.AxesSubplot object at 0x7fed1df9f588>],\n",
       "       [<matplotlib.axes._subplots.AxesSubplot object at 0x7fed1df45b00>,\n",
       "        <matplotlib.axes._subplots.AxesSubplot object at 0x7fed1def90b8>,\n",
       "        <matplotlib.axes._subplots.AxesSubplot object at 0x7fed1df1e630>,\n",
       "        <matplotlib.axes._subplots.AxesSubplot object at 0x7fed1dec7ba8>,\n",
       "        <matplotlib.axes._subplots.AxesSubplot object at 0x7fed1de78160>,\n",
       "        <matplotlib.axes._subplots.AxesSubplot object at 0x7fed1de9c6d8>,\n",
       "        <matplotlib.axes._subplots.AxesSubplot object at 0x7fed1de45c50>,\n",
       "        <matplotlib.axes._subplots.AxesSubplot object at 0x7fed1ddf6208>,\n",
       "        <matplotlib.axes._subplots.AxesSubplot object at 0x7fed1de1c780>,\n",
       "        <matplotlib.axes._subplots.AxesSubplot object at 0x7fed1ddc6cf8>,\n",
       "        <matplotlib.axes._subplots.AxesSubplot object at 0x7fed1dd752b0>,\n",
       "        <matplotlib.axes._subplots.AxesSubplot object at 0x7fed1dd9b828>,\n",
       "        <matplotlib.axes._subplots.AxesSubplot object at 0x7fed1dd46da0>],\n",
       "       [<matplotlib.axes._subplots.AxesSubplot object at 0x7fed1dcf4358>,\n",
       "        <matplotlib.axes._subplots.AxesSubplot object at 0x7fed1dd1b8d0>,\n",
       "        <matplotlib.axes._subplots.AxesSubplot object at 0x7fed1dcc5e48>,\n",
       "        <matplotlib.axes._subplots.AxesSubplot object at 0x7fed1dc75400>,\n",
       "        <matplotlib.axes._subplots.AxesSubplot object at 0x7fed1dc9c978>,\n",
       "        <matplotlib.axes._subplots.AxesSubplot object at 0x7fed1dc44ef0>,\n",
       "        <matplotlib.axes._subplots.AxesSubplot object at 0x7fed1dbf34a8>,\n",
       "        <matplotlib.axes._subplots.AxesSubplot object at 0x7fed1dc1ba20>,\n",
       "        <matplotlib.axes._subplots.AxesSubplot object at 0x7fed1dbc2f98>,\n",
       "        <matplotlib.axes._subplots.AxesSubplot object at 0x7fed1db74550>,\n",
       "        <matplotlib.axes._subplots.AxesSubplot object at 0x7fed1db9bac8>,\n",
       "        <matplotlib.axes._subplots.AxesSubplot object at 0x7fed1db4c080>,\n",
       "        <matplotlib.axes._subplots.AxesSubplot object at 0x7fed1daf25f8>],\n",
       "       [<matplotlib.axes._subplots.AxesSubplot object at 0x7fed1db19b70>,\n",
       "        <matplotlib.axes._subplots.AxesSubplot object at 0x7fed1dacb128>,\n",
       "        <matplotlib.axes._subplots.AxesSubplot object at 0x7fed1da716a0>,\n",
       "        <matplotlib.axes._subplots.AxesSubplot object at 0x7fed1da99c18>,\n",
       "        <matplotlib.axes._subplots.AxesSubplot object at 0x7fed1da4b1d0>,\n",
       "        <matplotlib.axes._subplots.AxesSubplot object at 0x7fed1d9f0748>,\n",
       "        <matplotlib.axes._subplots.AxesSubplot object at 0x7fed1da17cc0>,\n",
       "        <matplotlib.axes._subplots.AxesSubplot object at 0x7fed1d9ca278>,\n",
       "        <matplotlib.axes._subplots.AxesSubplot object at 0x7fed1d9707f0>,\n",
       "        <matplotlib.axes._subplots.AxesSubplot object at 0x7fed1d997d68>,\n",
       "        <matplotlib.axes._subplots.AxesSubplot object at 0x7fed1d947320>,\n",
       "        <matplotlib.axes._subplots.AxesSubplot object at 0x7fed1d8f0898>,\n",
       "        <matplotlib.axes._subplots.AxesSubplot object at 0x7fed1d916e10>],\n",
       "       [<matplotlib.axes._subplots.AxesSubplot object at 0x7fed1d8c93c8>,\n",
       "        <matplotlib.axes._subplots.AxesSubplot object at 0x7fed1d86f940>,\n",
       "        <matplotlib.axes._subplots.AxesSubplot object at 0x7fed1d897eb8>,\n",
       "        <matplotlib.axes._subplots.AxesSubplot object at 0x7fed1d847470>,\n",
       "        <matplotlib.axes._subplots.AxesSubplot object at 0x7fed1d7ed9e8>,\n",
       "        <matplotlib.axes._subplots.AxesSubplot object at 0x7fed1d815f60>,\n",
       "        <matplotlib.axes._subplots.AxesSubplot object at 0x7fed1d7c6518>,\n",
       "        <matplotlib.axes._subplots.AxesSubplot object at 0x7fed1d76ea90>,\n",
       "        <matplotlib.axes._subplots.AxesSubplot object at 0x7fed1d79d048>,\n",
       "        <matplotlib.axes._subplots.AxesSubplot object at 0x7fed1d7465c0>,\n",
       "        <matplotlib.axes._subplots.AxesSubplot object at 0x7fed1d6ecb38>,\n",
       "        <matplotlib.axes._subplots.AxesSubplot object at 0x7fed1d71c0f0>,\n",
       "        <matplotlib.axes._subplots.AxesSubplot object at 0x7fed1d6c3668>],\n",
       "       [<matplotlib.axes._subplots.AxesSubplot object at 0x7fed1d66bbe0>,\n",
       "        <matplotlib.axes._subplots.AxesSubplot object at 0x7fed1d69d198>,\n",
       "        <matplotlib.axes._subplots.AxesSubplot object at 0x7fed1d643710>,\n",
       "        <matplotlib.axes._subplots.AxesSubplot object at 0x7fed1d5ebc88>,\n",
       "        <matplotlib.axes._subplots.AxesSubplot object at 0x7fed1d61b240>,\n",
       "        <matplotlib.axes._subplots.AxesSubplot object at 0x7fed1d5c17b8>,\n",
       "        <matplotlib.axes._subplots.AxesSubplot object at 0x7fed1d56ad30>,\n",
       "        <matplotlib.axes._subplots.AxesSubplot object at 0x7fed1d59c2e8>,\n",
       "        <matplotlib.axes._subplots.AxesSubplot object at 0x7fed1d543860>,\n",
       "        <matplotlib.axes._subplots.AxesSubplot object at 0x7fed1d4eadd8>,\n",
       "        <matplotlib.axes._subplots.AxesSubplot object at 0x7fed1d519390>,\n",
       "        <matplotlib.axes._subplots.AxesSubplot object at 0x7fed1d4c1908>,\n",
       "        <matplotlib.axes._subplots.AxesSubplot object at 0x7fed1d469e80>],\n",
       "       [<matplotlib.axes._subplots.AxesSubplot object at 0x7fed1d498438>,\n",
       "        <matplotlib.axes._subplots.AxesSubplot object at 0x7fed1d4429b0>,\n",
       "        <matplotlib.axes._subplots.AxesSubplot object at 0x7fed1d3eaf28>,\n",
       "        <matplotlib.axes._subplots.AxesSubplot object at 0x7fed1d4184e0>,\n",
       "        <matplotlib.axes._subplots.AxesSubplot object at 0x7fed1d3c0a58>,\n",
       "        <matplotlib.axes._subplots.AxesSubplot object at 0x7fed1d368fd0>,\n",
       "        <matplotlib.axes._subplots.AxesSubplot object at 0x7fed1d396588>,\n",
       "        <matplotlib.axes._subplots.AxesSubplot object at 0x7fed1d33bb00>,\n",
       "        <matplotlib.axes._subplots.AxesSubplot object at 0x7fed1d2ef0b8>,\n",
       "        <matplotlib.axes._subplots.AxesSubplot object at 0x7fed1d316630>,\n",
       "        <matplotlib.axes._subplots.AxesSubplot object at 0x7fed1d2bfba8>,\n",
       "        <matplotlib.axes._subplots.AxesSubplot object at 0x7fed1d26f160>,\n",
       "        <matplotlib.axes._subplots.AxesSubplot object at 0x7fed1d2956d8>]],\n",
       "      dtype=object)"
      ]
     },
     "execution_count": 15,
     "metadata": {},
     "output_type": "execute_result"
    }
   ],
   "source": [
    "grr"
   ]
  },
  {
   "cell_type": "code",
   "execution_count": null,
   "metadata": {},
   "outputs": [],
   "source": []
  }
 ],
 "metadata": {
  "kernelspec": {
   "display_name": "Python 3",
   "language": "python",
   "name": "python3"
  },
  "language_info": {
   "codemirror_mode": {
    "name": "ipython",
    "version": 3
   },
   "file_extension": ".py",
   "mimetype": "text/x-python",
   "name": "python",
   "nbconvert_exporter": "python",
   "pygments_lexer": "ipython3",
   "version": "3.6.6"
  }
 },
 "nbformat": 4,
 "nbformat_minor": 2
}
